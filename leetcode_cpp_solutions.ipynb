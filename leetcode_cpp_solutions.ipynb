{
 "cells": [
  {
   "cell_type": "code",
   "execution_count": 1,
   "metadata": {},
   "outputs": [],
   "source": [
    "#include <iostream>\n",
    "#include <vector>\n",
    "#include <cassert>\n",
    "\n",
    "using namespace std;"
   ]
  },
  {
   "cell_type": "code",
   "execution_count": 2,
   "metadata": {},
   "outputs": [
    {
     "name": "stderr",
     "output_type": "stream",
     "text": [
      "\u001b[1minput_line_47:2:2: \u001b[0m\u001b[0;1;31merror: \u001b[0m\u001b[1mexpected expression\u001b[0m\n",
      " %%python3\n",
      "\u001b[0;1;32m ^\n",
      "\u001b[0m\u001b[1minput_line_47:2:3: \u001b[0m\u001b[0;1;31merror: \u001b[0m\u001b[1mexpected expression\u001b[0m\n",
      " %%python3\n",
      "\u001b[0;1;32m  ^\n",
      "\u001b[0m\u001b[1minput_line_47:2:4: \u001b[0m\u001b[0;1;31merror: \u001b[0m\u001b[1muse of undeclared identifier 'python3'\u001b[0m\n",
      " %%python3\n",
      "\u001b[0;1;32m   ^\n",
      "\u001b[0m"
     ]
    }
   ],
   "source": [
    "%%\n",
    "print(\"hello\")"
   ]
  },
  {
   "cell_type": "markdown",
   "metadata": {},
   "source": [
    "## linked list problems"
   ]
  },
  {
   "cell_type": "code",
   "execution_count": null,
   "metadata": {},
   "outputs": [],
   "source": [
    "// .rawInput: toggle function define mode and code executable mode\n",
    "// both mode can define struct or class\n",
    ".rawInput // function_define_node -> code_executable_mode"
   ]
  },
  {
   "cell_type": "code",
   "execution_count": 7,
   "metadata": {},
   "outputs": [],
   "source": [
    "// linked_list.hpp\n",
    "struct ListNode {\n",
    "    int val;\n",
    "    ListNode *next;\n",
    "    explicit ListNode(int x) : val(x), next(nullptr) {}\n",
    "};\n",
    "\n",
    "// impl std::fmt::Debug for ListNode\n",
    "ostream& operator<<(ostream& stdout, const ListNode& list_node) {\n",
    "    target << source.val;\n",
    "    return stdout;\n",
    "}\n",
    "\n",
    "ListNode vec_to_linked_list(vector<int>& nums) {\n",
    "    ListNode dummy = ListNode(-1);\n",
    "    ListNode* curr = &dummy;\n",
    "    for (int num : nums) {\n",
    "        // 用了new会分配到堆内存，函数结束后不会被销毁\n",
    "        curr->next = new ListNode(num);\n",
    "        curr = curr->next;\n",
    "        /* 下面写法是分配到栈内存中，不要学！函数结束后可能导致链表无限长\n",
    "        ListNode new_node = ListNode(num);\n",
    "        cur->next = &new_node;\n",
    "        cur = cur->next;\n",
    "        */  \n",
    "    }\n",
    "    return *dummy.next;\n",
    "}\n",
    "\n",
    "vector<int> linked_list_to_vec(ListNode* head) {\n",
    "    vector<int> nums;\n",
    "    ListNode* curr = head;\n",
    "    while (curr != nullptr) {\n",
    "        nums.push_back(curr->val);\n",
    "        curr = curr->next;\n",
    "    }\n",
    "    for_each(begin(nums), end(nums), [](int num) {\n",
    "        cout << num << \"<-\";\n",
    "    });\n",
    "    return nums;\n",
    "}"
   ]
  },
  {
   "cell_type": "code",
   "execution_count": null,
   "metadata": {},
   "outputs": [],
   "source": [
    ".rawInput // code_executable_mode -> function_define_node"
   ]
  },
  {
   "cell_type": "code",
   "execution_count": 9,
   "metadata": {},
   "outputs": [],
   "source": [
    "// test linked_list.hpp\n",
    "vector<int> nums = vector<int>{1,2,3};\n",
    "ListNode ln = vec_to_linked_list(nums);\n",
    "vector<int> nums2 = linked_list_to_vec(&ln);\n",
    "assert(nums == nums2);"
   ]
  },
  {
   "cell_type": "code",
   "execution_count": 13,
   "metadata": {},
   "outputs": [],
   "source": [
    "struct P {\n",
    "    int x;\n",
    "    int y;\n",
    "}"
   ]
  },
  {
   "cell_type": "code",
   "execution_count": 14,
   "metadata": {},
   "outputs": [
    {
     "name": "stdout",
     "output_type": "stream",
     "text": [
      "(P &) @0x7f6da94d8078\n"
     ]
    }
   ],
   "source": [
    "P p = P { .x=1, .y=2 }"
   ]
  },
  {
   "cell_type": "code",
   "execution_count": null,
   "metadata": {},
   "outputs": [],
   "source": []
  }
 ],
 "metadata": {
  "kernelspec": {
   "display_name": "ROOT C++",
   "language": "c++",
   "name": "root"
  },
  "language_info": {
   "codemirror_mode": "text/x-c++src",
   "file_extension": ".C",
   "mimetype": " text/x-c++src",
   "name": "c++"
  }
 },
 "nbformat": 4,
 "nbformat_minor": 2
}
