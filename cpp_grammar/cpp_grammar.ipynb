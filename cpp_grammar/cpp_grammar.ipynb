{
 "cells": [
  {
   "cell_type": "code",
   "execution_count": 3,
   "id": "attractive-theology",
   "metadata": {},
   "outputs": [
    {
     "name": "stdout",
     "output_type": "stream",
     "text": [
      "sizeof(wchar_t)=4\n",
      "\u0011\n"
     ]
    }
   ],
   "source": [
    "// type.wchar_t\n",
    "// wchar_t == Unicode?\n",
    "cout << \"sizeof(wchar_t)=\" << sizeof(wchar_t) << endl;\n",
    "wchar_t str[] = L\"∑\"; // wchar_t不能打印出中文，也打不出Unicode\n",
    "wcout << str << endl;"
   ]
  },
  {
   "cell_type": "code",
   "execution_count": 2,
   "id": "higher-south",
   "metadata": {},
   "outputs": [
    {
     "name": "stdout",
     "output_type": "stream",
     "text": [
      "sizeof(wchar_t)=4\n"
     ]
    }
   ],
   "source": [
    "cout << \"sizeof(wchar_t)=\" << sizeof(wchar_t) << endl;"
   ]
  },
  {
   "cell_type": "code",
   "execution_count": 6,
   "id": "brief-advancement",
   "metadata": {},
   "outputs": [],
   "source": [
    "template<typename T>\n",
    "void swap(T &a, T &b) {\n",
    "    T temp = a;\n",
    "    a = b;\n",
    "    b = temp;\n",
    "}"
   ]
  },
  {
   "cell_type": "code",
   "execution_count": 9,
   "id": "convinced-block",
   "metadata": {},
   "outputs": [],
   "source": [
    "cout << \"c1=\""
   ]
  },
  {
   "cell_type": "code",
   "execution_count": 7,
   "id": "detected-kinase",
   "metadata": {},
   "outputs": [],
   "source": [
    "struct Base {\n",
    "    virtual void print() {}\n",
    "};\n",
    "\n",
    "struct Derived : Base {\n",
    "    void print() {\n",
    "        cout << \"Derived\\n\";\n",
    "    }\n",
    "};"
   ]
  },
  {
   "cell_type": "code",
   "execution_count": 8,
   "id": "suspended-bleeding",
   "metadata": {},
   "outputs": [
    {
     "name": "stdout",
     "output_type": "stream",
     "text": [
      "Derived\n",
      "Derived\n",
      "Derived\n"
     ]
    }
   ],
   "source": [
    "Derived* d1 = new Derived();\n",
    "d1->print();\n",
    "\n",
    "Base* bd1 = (Base*) d1;\n",
    "bd1->print();\n",
    "\n",
    "Derived* d2 = dynamic_cast<Derived*>(bd1);\n",
    "if (d2 != nullptr) {\n",
    "    d2->print();\n",
    "}"
   ]
  },
  {
   "cell_type": "code",
   "execution_count": null,
   "id": "outdoor-volume",
   "metadata": {},
   "outputs": [],
   "source": []
  }
 ],
 "metadata": {
  "kernelspec": {
   "display_name": "ROOT C++",
   "language": "c++",
   "name": "root"
  },
  "language_info": {
   "codemirror_mode": "text/x-c++src",
   "file_extension": ".C",
   "mimetype": " text/x-c++src",
   "name": "c++"
  }
 },
 "nbformat": 4,
 "nbformat_minor": 5
}
